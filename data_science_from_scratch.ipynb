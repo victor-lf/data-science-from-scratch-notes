{
 "cells": [
  {
   "cell_type": "markdown",
   "metadata": {},
   "source": [
    "# Chapter 1: Introduction"
   ]
  },
  {
   "cell_type": "markdown",
   "metadata": {},
   "source": [
    "---"
   ]
  },
  {
   "cell_type": "code",
   "execution_count": 1,
   "metadata": {},
   "outputs": [],
   "source": [
    "import networkx as nx\n",
    "import numpy as np\n",
    "import matplotlib.pyplot as plt"
   ]
  },
  {
   "cell_type": "markdown",
   "metadata": {},
   "source": [
    "### Finding Key Connectors"
   ]
  },
  {
   "cell_type": "code",
   "execution_count": 2,
   "metadata": {},
   "outputs": [],
   "source": [
    "# List of users\n",
    "\n",
    "users = [\n",
    "    {\"id\": 0, \"name\": \"Hero\"},\n",
    "    {\"id\": 1, \"name\": \"Dunn\"},\n",
    "    {\"id\": 2, \"name\": \"Sue\"},\n",
    "    {\"id\": 3, \"name\": \"Chi\"},\n",
    "    {\"id\": 4, \"name\": \"Thor\"},\n",
    "    {\"id\": 5, \"name\": \"Clive\"},\n",
    "    {\"id\": 6, \"name\": \"Hicks\"},\n",
    "    {\"id\": 7, \"name\": \"Devin\"},\n",
    "    {\"id\": 8, \"name\": \"Kate\"},\n",
    "    {\"id\": 9, \"name\": \"Klein\"}\n",
    "]"
   ]
  },
  {
   "cell_type": "code",
   "execution_count": 3,
   "metadata": {},
   "outputs": [],
   "source": [
    "# Friendship data, represented as a list of pairs of IDs\n",
    "\n",
    "friendships = [(0, 1), (0, 2), (1, 2), (1, 3), (2, 3), (3, 4),\n",
    "               (4, 5), (5, 6), (5, 7), (6, 8), (7, 8), (8, 9)]"
   ]
  },
  {
   "cell_type": "markdown",
   "metadata": {},
   "source": [
    "I will try to create a representation of this network, like the one shown in the book. \n",
    "For this, I'm going to use the networkx package, which is already imported as nx. "
   ]
  },
  {
   "cell_type": "code",
   "execution_count": 4,
   "metadata": {},
   "outputs": [
    {
     "data": {
      "image/png": "[encoded data removed]",
      "text/plain": [
       "<matplotlib.figure.Figure at 0x7f73c43808d0>"
      ]
     },
     "metadata": {},
     "output_type": "display_data"
    }
   ],
   "source": [
    "# Create an empty graph structure (a \"null graph\") with no nodes and no edges\n",
    "G = nx.Graph()\n",
    "\n",
    "# Add edges to the graph using friendships list. Each pair of friends (each tuple)\n",
    "# in friendships forms an edge\n",
    "G.add_edges_from(friendships)\n",
    "\n",
    "# Creates a dictionary of positions keyed by node to use later in nx.draw()\n",
    "#pos = nx.spring_layout(G)\n",
    "pos = {0: [-1.00,  0.00],\n",
    "       1: [-0.72, -0.09],\n",
    "       2: [-0.72,  0.09],\n",
    "       3: [-0.44,  0.00],\n",
    "       4: [-0.10,  0.00],\n",
    "       5: [ 0.24,  0.00],\n",
    "       6: [ 0.52,  0.09],\n",
    "       7: [ 0.52, -0.09],\n",
    "       8: [ 0.80,  0.00],\n",
    "       9: [ 1.10,  0.00]}\n",
    "\n",
    "# Creates a new figure and specify its size\n",
    "plt.figure(figsize=(8,4))   \n",
    "\n",
    "# Draw the graph G\n",
    "nx.draw(G, pos, with_labels=True, node_color='#C4C4C4', node_size=2500,\n",
    "        font_size=16, linewidths=2)\n",
    "\n",
    "# Change the color of the nodes' outline\n",
    "ax = plt.gca()                            # to get the current axis\n",
    "ax.collections[0].set_edgecolor('black')  # ax.collections[0] is a PathCollection object governing the nodes\n",
    "\n",
    "# display figure\n",
    "plt.show()"
   ]
  },
  {
   "cell_type": "markdown",
   "metadata": {},
   "source": [
    "*Figure 1-1. The DataSciencester network*"
   ]
  },
  {
   "cell_type": "code",
   "execution_count": 5,
   "metadata": {
    "scrolled": false
   },
   "outputs": [],
   "source": [
    "# Let's add a list (empty for now) of friends to each user\n",
    "\n",
    "for user in users:\n",
    "    user[\"friends\"] = []\n",
    "    \n",
    "# Now, we populate the list using the friendships data\n",
    "\n",
    "for i, j in friendships:\n",
    "    users[i][\"friends\"].append(users[j])  # add j as a friend of i\n",
    "    users[j][\"friends\"].append(users[i])  # add i as a friend of j"
   ]
  },
  {
   "cell_type": "markdown",
   "metadata": {},
   "source": [
    "Now, we can ask: what's the average number of connections?"
   ]
  },
  {
   "cell_type": "code",
   "execution_count": 6,
   "metadata": {},
   "outputs": [],
   "source": [
    "# First we find the total number of connections, by summing up the lengths of all the friends lists:\n",
    "\n",
    "def number_of_friends(user):\n",
    "    #how many friends does _user_ have?\n",
    "    return len(user[\"friends\"])\n",
    "\n",
    "total_connections = sum(number_of_friends(user)\n",
    "                        for user in users)         # 24\n",
    "\n",
    "# Then we divide by the number of users:\n",
    "\n",
    "num_users = len(users)                             # length of the users list\n",
    "avg_connections = total_connections / num_users    # 2.4"
   ]
  },
  {
   "cell_type": "markdown",
   "metadata": {},
   "source": [
    "Let's find now the most connected people. We can sort the users from \"most friends\" to \"least friends\":"
   ]
  },
  {
   "cell_type": "code",
   "execution_count": 7,
   "metadata": {},
   "outputs": [
    {
     "data": {
      "text/plain": [
       "[(1, 3),\n",
       " (2, 3),\n",
       " (3, 3),\n",
       " (5, 3),\n",
       " (8, 3),\n",
       " (0, 2),\n",
       " (4, 2),\n",
       " (6, 2),\n",
       " (7, 2),\n",
       " (9, 1)]"
      ]
     },
     "execution_count": 7,
     "metadata": {},
     "output_type": "execute_result"
    }
   ],
   "source": [
    "# Create a list (user_id, number_of_friends)\n",
    "num_friends_by_id = [(user[\"id\"], number_of_friends(user))\n",
    "                      for user in users]\n",
    "\n",
    "sorted(num_friends_by_id,                          # get it sorted \n",
    "       key=lambda user_friends: user_friends[1],   # by number of friends. Different from the book, which uses Python2. In Python3, tuple parameter unpacking is not supported anymore.\n",
    "       reverse=True)                               # largest to smallest"
   ]
  },
  {
   "cell_type": "markdown",
   "metadata": {},
   "source": [
    "We've just identified people who are somehow central to the network. In fact, we computed\n",
    "the network metric *degree centrality* (Figure 1-2)."
   ]
  },
  {
   "cell_type": "code",
   "execution_count": 8,
   "metadata": {},
   "outputs": [
    {
     "data": {
      "image/png": "[encoded data removed]",
      "text/plain": [
       "<matplotlib.figure.Figure at 0x7f73c437ae48>"
      ]
     },
     "metadata": {},
     "output_type": "display_data"
    }
   ],
   "source": [
    "dc = nx.degree_centrality(G)              # dictionary with nodes as keys and degree centrality as values\n",
    "dc_array = np.array(list(dc.values()))    # numpy array with degree centrality values. This will be used\n",
    "                                          # in the node_size parameter of nx.draw\n",
    "\n",
    "# Creates a dictionary of positions keyed by node to use later in nx.draw()\n",
    "#pos = nx.spring_layout(G)\n",
    "pos = {0: [-1.00,  0.00],\n",
    "       1: [-0.72, -0.09],\n",
    "       2: [-0.72,  0.09],\n",
    "       3: [-0.44,  0.00],\n",
    "       4: [-0.10,  0.00],\n",
    "       5: [ 0.24,  0.00],\n",
    "       6: [ 0.52,  0.09],\n",
    "       7: [ 0.52, -0.09],\n",
    "       8: [ 0.80,  0.00],\n",
    "       9: [ 1.10,  0.00]}\n",
    "\n",
    "# Creates a new figure and specify its size\n",
    "plt.figure(figsize=(8,4))                 \n",
    "\n",
    "# Draw the graph G \n",
    "nx.draw(G, pos, with_labels=True, node_color='#C4C4C4', node_size=8000*dc_array,\n",
    "        font_size=16, linewidths=2)\n",
    "\n",
    "# Change the color of the nodes' outline\n",
    "ax = plt.gca()                            # to get the current axis\n",
    "ax.collections[0].set_edgecolor('black')  # ax.collections[0] is a PathCollection object governing the nodes\n",
    "\n",
    "# Display figure\n",
    "plt.show()"
   ]
  },
  {
   "cell_type": "markdown",
   "metadata": {},
   "source": [
    "*Figure 1-2. The DataSciencester network sized by degree*"
   ]
  },
  {
   "cell_type": "markdown",
   "metadata": {},
   "source": [
    "### Data Scientists You May Know"
   ]
  },
  {
   "cell_type": "markdown",
   "metadata": {},
   "source": [
    "Now we will construct a \"Data Scientists You May Know\" suggester."
   ]
  },
  {
   "cell_type": "code",
   "execution_count": 9,
   "metadata": {},
   "outputs": [],
   "source": [
    "# A user might know the friends of friends. So, for each of a user's friends, iterate over that person's friends\n",
    "# and collect all the results\n",
    "\n",
    "def friends_of_friend_ids_bad(user):\n",
    "    # \"foaf\" is short for \"friend of a friend\"\n",
    "    return [foaf[\"id\"]\n",
    "            for friend in user[\"friends\"]    # for each of user's friends\n",
    "            for foaf in friend[\"friends\"]]   # get each of _their_ friends"
   ]
  },
  {
   "cell_type": "code",
   "execution_count": 10,
   "metadata": {},
   "outputs": [
    {
     "data": {
      "text/plain": [
       "[0, 2, 3, 0, 1, 3]"
      ]
     },
     "execution_count": 10,
     "metadata": {},
     "output_type": "execute_result"
    }
   ],
   "source": [
    "# Calling this function on users[0] (Hero)\n",
    "friends_of_friend_ids_bad(users[0])"
   ]
  },
  {
   "cell_type": "markdown",
   "metadata": {},
   "source": [
    "It includes 0 twice, since Hero is friends with both of his friends. It includes users 1 and 2, although they are both friends with Hero already. And it includes user 3 twice, as Chi is reachable through two different friends.<br>\n",
    "Maybe we should produce a *count* of mutual friends. We also should use a helper function to exclude people already know to the user:"
   ]
  },
  {
   "cell_type": "code",
   "execution_count": 11,
   "metadata": {},
   "outputs": [
    {
     "name": "stdout",
     "output_type": "stream",
     "text": [
      "Counter({0: 2, 5: 1})\n"
     ]
    }
   ],
   "source": [
    "from collections import Counter     # not loaded by default\n",
    "\n",
    "def not_the_same(user, other_user):\n",
    "    # two users are not the same if they have different ids\n",
    "    return user[\"id\"] != other_user[\"id\"]\n",
    "\n",
    "def not_friends(user, other_user):\n",
    "    # other user is not a friend if he's not in user[\"friends\"],\n",
    "    # that is, if he's not_the_same as all the people in user[\"friends\"]\n",
    "    return all(not_the_same(friend, other_user)\n",
    "               for friend in user[\"friends\"])\n",
    "\n",
    "def friends_of_friend_ids(user):\n",
    "    return Counter(foaf[\"id\"]\n",
    "                   for friend in user[\"friends\"]    # for each of my friends\n",
    "                   for foaf in friend[\"friends\"]    # count *their* friends\n",
    "                   if not_the_same(user, foaf)      # who aren't me\n",
    "                   and not_friends(user, foaf))     # and aren't my friends\n",
    "\n",
    "print(friends_of_friend_ids(users[3]))              # Counter({0: 2, 5: 1})"
   ]
  },
  {
   "cell_type": "markdown",
   "metadata": {},
   "source": [
    "You are interested in meeting users with similar interests, so you manage to get your hands on this data as a list of pairs (user_id, interest):"
   ]
  },
  {
   "cell_type": "code",
   "execution_count": 12,
   "metadata": {},
   "outputs": [],
   "source": [
    "interests = [\n",
    "    (0, \"Hadoop\"), (0, \"Big Data\"), (0, \"HBase\"), (0, \"Java\"),\n",
    "    (0, \"Spark\"), (0, \"Storm\"), (0, \"Cassandra\"),\n",
    "    (1, \"NoSQL\"), (1, \"MongoDB\"), (1, \"Cassandra\"), (1, \"HBase\"),\n",
    "    (1, \"Postgres\"), (2, \"Python\"), (2, \"scikit-learn\"), (2, \"scipy\"),\n",
    "    (2, \"numpy\"), (2, \"statsmodels\"), (2, \"pandas\"), (3, \"R\"), (3, \"Python\"),\n",
    "    (3, \"statistics\"), (3, \"regression\"), (3, \"probability\"),\n",
    "    (4, \"machine learning\"), (4, \"regression\"), (4, \"decision trees\"),\n",
    "    (4, \"libsvm\"), (5, \"Python\"), (5, \"R\"), (5, \"Java\"), (5, \"C++\"),\n",
    "    (5, \"Haskell\"), (5, \"programming languages\"), (6, \"statistics\"),\n",
    "    (6, \"probability\"), (6, \"mathematics\"), (6, \"theory\"),\n",
    "    (7, \"machine learning\"), (7, \"scikit-learn\"), (7, \"Mahout\"),\n",
    "    (7, \"neural networks\"), (8, \"neural networks\"), (8, \"deep learning\"),\n",
    "    (8, \"Big Data\"), (8, \"artificial intelligence\"), (9, \"Hadoop\"),\n",
    "    (9, \"Java\"), (9, \"MapReduce\"), (9, \"Big Data\")\n",
    "]"
   ]
  },
  {
   "cell_type": "markdown",
   "metadata": {},
   "source": [
    "Now we build a function that finds users with a certain interest:"
   ]
  },
  {
   "cell_type": "code",
   "execution_count": 13,
   "metadata": {},
   "outputs": [],
   "source": [
    "def data_scientists_who_like(target_interest):\n",
    "    return [user_id\n",
    "            for user_id, user_interest in interests\n",
    "            if user_interest == target_interest]"
   ]
  },
  {
   "cell_type": "markdown",
   "metadata": {},
   "source": [
    "This works, but it has to examine the whole list of interests for every search. If we have a lot of users and interests, or if we want to do a lot of searches, it's probably better building an index from interests to users:"
   ]
  },
  {
   "cell_type": "code",
   "execution_count": 14,
   "metadata": {
    "scrolled": true
   },
   "outputs": [
    {
     "data": {
      "text/plain": [
       "defaultdict(list,\n",
       "            {'Big Data': [0, 8, 9],\n",
       "             'C++': [5],\n",
       "             'Cassandra': [0, 1],\n",
       "             'HBase': [0, 1],\n",
       "             'Hadoop': [0, 9],\n",
       "             'Haskell': [5],\n",
       "             'Java': [0, 5, 9],\n",
       "             'Mahout': [7],\n",
       "             'MapReduce': [9],\n",
       "             'MongoDB': [1],\n",
       "             'NoSQL': [1],\n",
       "             'Postgres': [1],\n",
       "             'Python': [2, 3, 5],\n",
       "             'R': [3, 5],\n",
       "             'Spark': [0],\n",
       "             'Storm': [0],\n",
       "             'artificial intelligence': [8],\n",
       "             'decision trees': [4],\n",
       "             'deep learning': [8],\n",
       "             'libsvm': [4],\n",
       "             'machine learning': [4, 7],\n",
       "             'mathematics': [6],\n",
       "             'neural networks': [7, 8],\n",
       "             'numpy': [2],\n",
       "             'pandas': [2],\n",
       "             'probability': [3, 6],\n",
       "             'programming languages': [5],\n",
       "             'regression': [3, 4],\n",
       "             'scikit-learn': [2, 7],\n",
       "             'scipy': [2],\n",
       "             'statistics': [3, 6],\n",
       "             'statsmodels': [2],\n",
       "             'theory': [6]})"
      ]
     },
     "execution_count": 14,
     "metadata": {},
     "output_type": "execute_result"
    }
   ],
   "source": [
    "from collections import defaultdict   # we're going to use the defaultdict dict subclass \n",
    "\n",
    "# keys are interests, values are lists of user_ids with that interest\n",
    "user_ids_by_interest = defaultdict(list)\n",
    "\n",
    "for user_id, interest in interests:\n",
    "    user_ids_by_interest[interest].append(user_id)\n",
    "\n",
    "user_ids_by_interest"
   ]
  },
  {
   "cell_type": "markdown",
   "metadata": {},
   "source": [
    "And another from users to interests:"
   ]
  },
  {
   "cell_type": "code",
   "execution_count": 15,
   "metadata": {
    "scrolled": true
   },
   "outputs": [
    {
     "data": {
      "text/plain": [
       "defaultdict(list,\n",
       "            {0: ['Hadoop',\n",
       "              'Big Data',\n",
       "              'HBase',\n",
       "              'Java',\n",
       "              'Spark',\n",
       "              'Storm',\n",
       "              'Cassandra'],\n",
       "             1: ['NoSQL', 'MongoDB', 'Cassandra', 'HBase', 'Postgres'],\n",
       "             2: ['Python',\n",
       "              'scikit-learn',\n",
       "              'scipy',\n",
       "              'numpy',\n",
       "              'statsmodels',\n",
       "              'pandas'],\n",
       "             3: ['R', 'Python', 'statistics', 'regression', 'probability'],\n",
       "             4: ['machine learning', 'regression', 'decision trees', 'libsvm'],\n",
       "             5: ['Python',\n",
       "              'R',\n",
       "              'Java',\n",
       "              'C++',\n",
       "              'Haskell',\n",
       "              'programming languages'],\n",
       "             6: ['statistics', 'probability', 'mathematics', 'theory'],\n",
       "             7: ['machine learning',\n",
       "              'scikit-learn',\n",
       "              'Mahout',\n",
       "              'neural networks'],\n",
       "             8: ['neural networks',\n",
       "              'deep learning',\n",
       "              'Big Data',\n",
       "              'artificial intelligence'],\n",
       "             9: ['Hadoop', 'Java', 'MapReduce', 'Big Data']})"
      ]
     },
     "execution_count": 15,
     "metadata": {},
     "output_type": "execute_result"
    }
   ],
   "source": [
    "# keys are user_ids, values are lists of interests for that user_id\n",
    "interests_by_user_id = defaultdict(list)\n",
    "\n",
    "for user_id, interest in interests:\n",
    "    interests_by_user_id[user_id].append(interest)\n",
    "\n",
    "interests_by_user_id"
   ]
  },
  {
   "cell_type": "markdown",
   "metadata": {},
   "source": [
    "Now it's easy to find who has the most interests in common with a given user:\n",
    "- Iterate over the user's interests.\n",
    "- For each interest, iterate over the others users with that interest.\n",
    "- Keep count how many times we see each other user."
   ]
  },
  {
   "cell_type": "code",
   "execution_count": 16,
   "metadata": {},
   "outputs": [],
   "source": [
    "def most_common_interests_with(user):\n",
    "    return Counter(interested_user_id\n",
    "        for interest in interests_by_user_id[user[\"id\"]]\n",
    "        for interested_user_id in user_ids_by_interest[interest]\n",
    "        if interested_user_id != user[\"id\"])"
   ]
  },
  {
   "cell_type": "markdown",
   "metadata": {},
   "source": [
    "This could be used to build a richer \"Data Scientists You May Know\" feature based on a combination of mutual friends and mutual interests."
   ]
  },
  {
   "cell_type": "markdown",
   "metadata": {},
   "source": [
    "### Salaries and Experience"
   ]
  },
  {
   "cell_type": "code",
   "execution_count": 128,
   "metadata": {},
   "outputs": [],
   "source": [
    "# The limits are −2,147,483,648 and 2,147,483,647. The hex values of them are -0x80000000 and 0x7fffffff.\n",
    "# You can see that, for positive values: \n",
    "# 2147483647 & 0x7fffffff = 2147483647; 1 & 0x7fffffff = 1; 780 & 0x7fffffff = 780\n",
    "# where '&' is the 'bitwise AND' operator.\n",
    "# That is, for values within the limit, the value is given as output.\n",
    "# And:\n",
    "# 2147483648 & 0x7fffffff = 0; 98989898989898 & 0x7fffffff = 1640235338\n",
    "# That is, for values exceeding the limit, some other value is displayed.\n",
    "\n",
    "# For negative values:\n",
    "# -2147483648 & -0x80000000 = -2147483648; -2147483647 & -0x80000000 = -2147483648; -2 & -0x80000000 = -2147483648\n",
    "# That is, for values within the limit, the limit is given as output.\n",
    "# And:\n",
    "# -2147483649 & -0x80000000 = -4294967296; -999999999999 & -0x80000000 = -1000727379968\n",
    "# That is, for values exceeding the limit, some other value is displayed.\n",
    "\n",
    "# We can use this to solve the problem.\n",
    "\n",
    "\n",
    "class Solution:\n",
    "    def reverse(self, x):\n",
    "        self.x = str(x)\n",
    "         \n",
    "        if x >= 0 and (int(self.x[::-1]) & 0x7fffffff == int(self.x[::-1])):\n",
    "            return int(self.x[::-1])\n",
    "        elif x < 0 and (-int(self.x[:0:-1]) & -0x80000000 == -0x80000000):\n",
    "            return -int(self.x[:0:-1])\n",
    "        else:\n",
    "            return 0"
   ]
  },
  {
   "cell_type": "code",
   "execution_count": 131,
   "metadata": {},
   "outputs": [
    {
     "data": {
      "text/plain": [
       "-4321"
      ]
     },
     "execution_count": 131,
     "metadata": {},
     "output_type": "execute_result"
    }
   ],
   "source": [
    "ob = Solution()\n",
    "ob.reverse(-1234)"
   ]
  },
  {
   "cell_type": "code",
   "execution_count": 149,
   "metadata": {},
   "outputs": [],
   "source": [
    " def reverse(x):\n",
    "        str_x = str(x)\n",
    "         \n",
    "        if x >= 0 and (int(str_x[::-1]) & 0x7fffffff == int(str_x[::-1])):\n",
    "            return int(str_x[::-1])\n",
    "        elif x < 0 and (-int(str_x[:0:-1]) & -0x80000000 == -0x80000000):\n",
    "            return -int(str_x[:0:-1])\n",
    "        else:\n",
    "            return 0"
   ]
  },
  {
   "cell_type": "code",
   "execution_count": 155,
   "metadata": {},
   "outputs": [
    {
     "data": {
      "text/plain": [
       "-321"
      ]
     },
     "execution_count": 155,
     "metadata": {},
     "output_type": "execute_result"
    }
   ],
   "source": [
    "reverse(-1230)"
   ]
  },
  {
   "cell_type": "code",
   "execution_count": 340,
   "metadata": {},
   "outputs": [],
   "source": [
    "class Solution:\n",
    "    def reverse(self, x):\n",
    "        str_x = str(x)\n",
    "        \n",
    "        if (-2**31) <= int(str_x[::-1]) <= (2**31-1):\n",
    "            return int(str_x[::-1])\n",
    "        elif x < 0 and -int(str_x[:0:-1]) >= (-2**31):\n",
    "            "
   ]
  },
  {
   "cell_type": "code",
   "execution_count": 345,
   "metadata": {},
   "outputs": [
    {
     "data": {
      "text/plain": [
       "10"
      ]
     },
     "execution_count": 345,
     "metadata": {},
     "output_type": "execute_result"
    }
   ],
   "source": [
    "abs(10)"
   ]
  },
  {
   "cell_type": "code",
   "execution_count": null,
   "metadata": {},
   "outputs": [],
   "source": []
  },
  {
   "cell_type": "code",
   "execution_count": null,
   "metadata": {},
   "outputs": [],
   "source": []
  }
 ],
 "metadata": {
  "kernelspec": {
   "display_name": "Python 3",
   "language": "python",
   "name": "python3"
  },
  "language_info": {
   "codemirror_mode": {
    "name": "ipython",
    "version": 3
   },
   "file_extension": ".py",
   "mimetype": "text/x-python",
   "name": "python",
   "nbconvert_exporter": "python",
   "pygments_lexer": "ipython3",
   "version": "3.4.2"
  },
  "latex_envs": {
   "LaTeX_envs_menu_present": true,
   "autoclose": false,
   "autocomplete": true,
   "bibliofile": "biblio.bib",
   "cite_by": "apalike",
   "current_citInitial": 1,
   "eqLabelWithNumbers": true,
   "eqNumInitial": 1,
   "hotkeys": {
    "equation": "Ctrl-E",
    "itemize": "Ctrl-I"
   },
   "labels_anchors": false,
   "latex_user_defs": false,
   "report_style_numbering": false,
   "user_envs_cfg": false
  }
 },
 "nbformat": 4,
 "nbformat_minor": 2
}
